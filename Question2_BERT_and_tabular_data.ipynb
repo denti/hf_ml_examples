{
 "cells": [
  {
   "cell_type": "code",
   "execution_count": 3,
   "id": "d574c151-9cd3-4e4c-9751-ae7b4af8b024",
   "metadata": {},
   "outputs": [],
   "source": [
    "import torch\n",
    "import sklearn\n",
    "import transformers\n",
    "import numpy as np\n",
    "from transformers import BertModel, BertTokenizerFast\n",
    "from sklearn.ensemble import RandomForestClassifier\n",
    "from sklearn.datasets import make_classification\n"
   ]
  },
  {
   "cell_type": "code",
   "execution_count": 21,
   "id": "f3d41541-8459-4ba7-a2b7-00656d3a57a1",
   "metadata": {},
   "outputs": [
    {
     "name": "stdout",
     "output_type": "stream",
     "text": [
      "transformers: 4.18.0 torch: 1.12.1 sklearn: 1.1.1 numpy: 1.21.5\n"
     ]
    }
   ],
   "source": [
    "print(\n",
    "    \"transformers: \" + transformers.__version__,\n",
    "    \"torch: \"        + torch.__version__,\n",
    "    \"sklearn: \"      + sklearn.__version__,\n",
    "    \"numpy: \"        + np.__version__,\n",
    ")"
   ]
  },
  {
   "cell_type": "code",
   "execution_count": null,
   "id": "c50be177-132c-43c7-a953-83b8425573b9",
   "metadata": {},
   "outputs": [],
   "source": [
    "tokenizer = BertTokenizerFast.from_pretrained(\"bert-base-uncased\") \n",
    "model = BertModel.from_pretrained('bert-base-uncased', output_hidden_states=True)"
   ]
  },
  {
   "cell_type": "code",
   "execution_count": 12,
   "id": "58a37e7b-90de-4ba4-9bb5-ef615ca63ced",
   "metadata": {},
   "outputs": [],
   "source": [
    "# textual comments for product\n",
    "sentiment_data_textual = [\n",
    "    \"This microwave that I bought in your store is awesome!\",\n",
    "    \"This device is really bad, I won't recommend to buy it\",\n",
    "    \"My daughter is happy with this reeader. I recommend it!\",\n",
    "    \"I can't say that I will buy this bulb again\"]\n",
    "\n",
    "# numerical and categorical data after encoding. Example of the format: binary_data(True|False), one-hot category(category_1|category_2|category_3|category_4), price, num of views.\n",
    "sentiment_data_tabular = [\n",
    "    [1, 0, 0, 1, 0, 811.32, 340],\n",
    "    [0, 1, 0, 0, 0, 1000.0, 20],\n",
    "    [1, 0, 1, 0, 0, 200.74, 1200],\n",
    "    [0, 0, 0, 0, 1, 1.1,     17],\n",
    "]\n",
    "\n",
    "# Classes: Positive/negative sentiment\n",
    "y = [\n",
    "    1,\n",
    "    0,\n",
    "    1,\n",
    "    0\n",
    "]"
   ]
  },
  {
   "cell_type": "code",
   "execution_count": 7,
   "id": "450a0a89-fc88-49b8-b9ca-2d21b5799bf6",
   "metadata": {},
   "outputs": [
    {
     "name": "stdout",
     "output_type": "stream",
     "text": [
      "3\n"
     ]
    }
   ],
   "source": [
    "# getting tokens for textual data\n",
    "tokens = tokenizer(sentiment_data_textual, padding=True, truncation=True, return_tensors=\"pt\")\n",
    "print(len(tokens))"
   ]
  },
  {
   "cell_type": "code",
   "execution_count": 8,
   "id": "fea98292-5f59-4698-a300-21e0e25e249f",
   "metadata": {},
   "outputs": [],
   "source": [
    "model = model.eval()"
   ]
  },
  {
   "cell_type": "code",
   "execution_count": 10,
   "id": "db8f2b5f-87a3-41a1-94bb-4a45575e2136",
   "metadata": {},
   "outputs": [],
   "source": [
    "# Getting output of the bert for our texts\n",
    "with torch.no_grad():\n",
    "    text_embeddings = model(tokens['input_ids'])"
   ]
  },
  {
   "cell_type": "code",
   "execution_count": 14,
   "id": "5dbfc3bb-e512-48fa-8e96-68e5809bc4aa",
   "metadata": {},
   "outputs": [],
   "source": [
    "# at the beginning we ca try to use embeddings for classification task of the bert. If they will work not so good we hat try to take other embeddings\n",
    "text_embeddings = text_embeddings.pooler_output"
   ]
  },
  {
   "cell_type": "code",
   "execution_count": 15,
   "id": "f5157e0e-2fad-4064-8dff-2ec3ae16230f",
   "metadata": {},
   "outputs": [],
   "source": [
    "# concatenating of the tabular and textual data\n",
    "X = np.array(sentiment_data_tabular)\n",
    "X = np.concatenate([X, text_embeddings], axis=1)"
   ]
  },
  {
   "cell_type": "code",
   "execution_count": 16,
   "id": "55d1ed83-16d2-4108-8ebd-9d4564d81c59",
   "metadata": {},
   "outputs": [
    {
     "data": {
      "text/plain": [
       "(4, 775)"
      ]
     },
     "execution_count": 16,
     "metadata": {},
     "output_type": "execute_result"
    }
   ],
   "source": [
    "X.shape"
   ]
  },
  {
   "cell_type": "code",
   "execution_count": 17,
   "id": "2035b763-8bef-4a3d-801e-5250022b68c2",
   "metadata": {},
   "outputs": [
    {
     "data": {
      "text/html": [
       "<style>#sk-container-id-1 {color: black;background-color: white;}#sk-container-id-1 pre{padding: 0;}#sk-container-id-1 div.sk-toggleable {background-color: white;}#sk-container-id-1 label.sk-toggleable__label {cursor: pointer;display: block;width: 100%;margin-bottom: 0;padding: 0.3em;box-sizing: border-box;text-align: center;}#sk-container-id-1 label.sk-toggleable__label-arrow:before {content: \"▸\";float: left;margin-right: 0.25em;color: #696969;}#sk-container-id-1 label.sk-toggleable__label-arrow:hover:before {color: black;}#sk-container-id-1 div.sk-estimator:hover label.sk-toggleable__label-arrow:before {color: black;}#sk-container-id-1 div.sk-toggleable__content {max-height: 0;max-width: 0;overflow: hidden;text-align: left;background-color: #f0f8ff;}#sk-container-id-1 div.sk-toggleable__content pre {margin: 0.2em;color: black;border-radius: 0.25em;background-color: #f0f8ff;}#sk-container-id-1 input.sk-toggleable__control:checked~div.sk-toggleable__content {max-height: 200px;max-width: 100%;overflow: auto;}#sk-container-id-1 input.sk-toggleable__control:checked~label.sk-toggleable__label-arrow:before {content: \"▾\";}#sk-container-id-1 div.sk-estimator input.sk-toggleable__control:checked~label.sk-toggleable__label {background-color: #d4ebff;}#sk-container-id-1 div.sk-label input.sk-toggleable__control:checked~label.sk-toggleable__label {background-color: #d4ebff;}#sk-container-id-1 input.sk-hidden--visually {border: 0;clip: rect(1px 1px 1px 1px);clip: rect(1px, 1px, 1px, 1px);height: 1px;margin: -1px;overflow: hidden;padding: 0;position: absolute;width: 1px;}#sk-container-id-1 div.sk-estimator {font-family: monospace;background-color: #f0f8ff;border: 1px dotted black;border-radius: 0.25em;box-sizing: border-box;margin-bottom: 0.5em;}#sk-container-id-1 div.sk-estimator:hover {background-color: #d4ebff;}#sk-container-id-1 div.sk-parallel-item::after {content: \"\";width: 100%;border-bottom: 1px solid gray;flex-grow: 1;}#sk-container-id-1 div.sk-label:hover label.sk-toggleable__label {background-color: #d4ebff;}#sk-container-id-1 div.sk-serial::before {content: \"\";position: absolute;border-left: 1px solid gray;box-sizing: border-box;top: 0;bottom: 0;left: 50%;z-index: 0;}#sk-container-id-1 div.sk-serial {display: flex;flex-direction: column;align-items: center;background-color: white;padding-right: 0.2em;padding-left: 0.2em;position: relative;}#sk-container-id-1 div.sk-item {position: relative;z-index: 1;}#sk-container-id-1 div.sk-parallel {display: flex;align-items: stretch;justify-content: center;background-color: white;position: relative;}#sk-container-id-1 div.sk-item::before, #sk-container-id-1 div.sk-parallel-item::before {content: \"\";position: absolute;border-left: 1px solid gray;box-sizing: border-box;top: 0;bottom: 0;left: 50%;z-index: -1;}#sk-container-id-1 div.sk-parallel-item {display: flex;flex-direction: column;z-index: 1;position: relative;background-color: white;}#sk-container-id-1 div.sk-parallel-item:first-child::after {align-self: flex-end;width: 50%;}#sk-container-id-1 div.sk-parallel-item:last-child::after {align-self: flex-start;width: 50%;}#sk-container-id-1 div.sk-parallel-item:only-child::after {width: 0;}#sk-container-id-1 div.sk-dashed-wrapped {border: 1px dashed gray;margin: 0 0.4em 0.5em 0.4em;box-sizing: border-box;padding-bottom: 0.4em;background-color: white;}#sk-container-id-1 div.sk-label label {font-family: monospace;font-weight: bold;display: inline-block;line-height: 1.2em;}#sk-container-id-1 div.sk-label-container {text-align: center;}#sk-container-id-1 div.sk-container {/* jupyter's `normalize.less` sets `[hidden] { display: none; }` but bootstrap.min.css set `[hidden] { display: none !important; }` so we also need the `!important` here to be able to override the default hidden behavior on the sphinx rendered scikit-learn.org. See: https://github.com/scikit-learn/scikit-learn/issues/21755 */display: inline-block !important;position: relative;}#sk-container-id-1 div.sk-text-repr-fallback {display: none;}</style><div id=\"sk-container-id-1\" class=\"sk-top-container\"><div class=\"sk-text-repr-fallback\"><pre>RandomForestClassifier(max_depth=10)</pre><b>In a Jupyter environment, please rerun this cell to show the HTML representation or trust the notebook. <br />On GitHub, the HTML representation is unable to render, please try loading this page with nbviewer.org.</b></div><div class=\"sk-container\" hidden><div class=\"sk-item\"><div class=\"sk-estimator sk-toggleable\"><input class=\"sk-toggleable__control sk-hidden--visually\" id=\"sk-estimator-id-1\" type=\"checkbox\" checked><label for=\"sk-estimator-id-1\" class=\"sk-toggleable__label sk-toggleable__label-arrow\">RandomForestClassifier</label><div class=\"sk-toggleable__content\"><pre>RandomForestClassifier(max_depth=10)</pre></div></div></div></div></div>"
      ],
      "text/plain": [
       "RandomForestClassifier(max_depth=10)"
      ]
     },
     "execution_count": 17,
     "metadata": {},
     "output_type": "execute_result"
    }
   ],
   "source": [
    "# creating of the RF classifier. XGBoost or any other mode can be here\n",
    "clf = RandomForestClassifier(max_depth=10)\n",
    "clf.fit(X, y)"
   ]
  },
  {
   "cell_type": "code",
   "execution_count": 19,
   "id": "b0a5f658-6659-4da0-8b96-babf97d78cee",
   "metadata": {},
   "outputs": [
    {
     "name": "stdout",
     "output_type": "stream",
     "text": [
      "Predicted class for the first example is: Positive\n"
     ]
    }
   ],
   "source": [
    "# predicting with the pre-trained classifier\n",
    "prediction = clf.predict(X[0:1])\n",
    "print(\"Predicted class for the first example is:\", \"Positive\" if prediction[0] > 0.5 else \"Negative\")"
   ]
  },
  {
   "cell_type": "code",
   "execution_count": null,
   "id": "1d0177bd-7d51-45d7-bef8-78fa08b6e133",
   "metadata": {},
   "outputs": [],
   "source": []
  }
 ],
 "metadata": {
  "kernelspec": {
   "display_name": "Python 3 (ipykernel)",
   "language": "python",
   "name": "python3"
  },
  "language_info": {
   "codemirror_mode": {
    "name": "ipython",
    "version": 3
   },
   "file_extension": ".py",
   "mimetype": "text/x-python",
   "name": "python",
   "nbconvert_exporter": "python",
   "pygments_lexer": "ipython3",
   "version": "3.9.12"
  }
 },
 "nbformat": 4,
 "nbformat_minor": 5
}
